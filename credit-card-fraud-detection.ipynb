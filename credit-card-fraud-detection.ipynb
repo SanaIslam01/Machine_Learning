{
 "cells": [
  {
   "cell_type": "code",
   "execution_count": 1,
   "id": "0cf78b7e",
   "metadata": {
    "_cell_guid": "b1076dfc-b9ad-4769-8c92-a6c4dae69d19",
    "_uuid": "8f2839f25d086af736a60e9eeb907d3b93b6e0e5",
    "execution": {
     "iopub.execute_input": "2024-04-18T10:05:10.026343Z",
     "iopub.status.busy": "2024-04-18T10:05:10.024512Z",
     "iopub.status.idle": "2024-04-18T10:05:10.965815Z",
     "shell.execute_reply": "2024-04-18T10:05:10.964613Z"
    },
    "papermill": {
     "duration": 0.957908,
     "end_time": "2024-04-18T10:05:10.968376",
     "exception": false,
     "start_time": "2024-04-18T10:05:10.010468",
     "status": "completed"
    },
    "tags": []
   },
   "outputs": [
    {
     "name": "stdout",
     "output_type": "stream",
     "text": [
      "/kaggle/input/creditcardfraud/creditcard.csv\n"
     ]
    }
   ],
   "source": [
    "# This Python 3 environment comes with many helpful analytics libraries installed\n",
    "# It is defined by the kaggle/python Docker image: https://github.com/kaggle/docker-python\n",
    "# For example, here's several helpful packages to load\n",
    "\n",
    "import numpy as np # linear algebra\n",
    "import pandas as pd # data processing, CSV file I/O (e.g. pd.read_csv)\n",
    "\n",
    "# Input data files are available in the read-only \"../input/\" directory\n",
    "# For example, running this (by clicking run or pressing Shift+Enter) will list all files under the input directory\n",
    "\n",
    "import os\n",
    "for dirname, _, filenames in os.walk('/kaggle/input'):\n",
    "    for filename in filenames:\n",
    "        print(os.path.join(dirname, filename))\n",
    "\n",
    "# You can write up to 20GB to the current directory (/kaggle/working/) that gets preserved as output when you create a version using \"Save & Run All\" \n",
    "# You can also write temporary files to /kaggle/temp/, but they won't be saved outside of the current session"
   ]
  },
  {
   "cell_type": "markdown",
   "id": "63c5e843",
   "metadata": {
    "papermill": {
     "duration": 0.011474,
     "end_time": "2024-04-18T10:05:10.992071",
     "exception": false,
     "start_time": "2024-04-18T10:05:10.980597",
     "status": "completed"
    },
    "tags": []
   },
   "source": [
    "# EDA and Data Cleaning"
   ]
  },
  {
   "cell_type": "code",
   "execution_count": 2,
   "id": "7684b43f",
   "metadata": {
    "execution": {
     "iopub.execute_input": "2024-04-18T10:05:11.017953Z",
     "iopub.status.busy": "2024-04-18T10:05:11.017430Z",
     "iopub.status.idle": "2024-04-18T10:05:12.886332Z",
     "shell.execute_reply": "2024-04-18T10:05:12.885104Z"
    },
    "papermill": {
     "duration": 1.885355,
     "end_time": "2024-04-18T10:05:12.889349",
     "exception": false,
     "start_time": "2024-04-18T10:05:11.003994",
     "status": "completed"
    },
    "tags": []
   },
   "outputs": [],
   "source": [
    "# import all important libraries\n",
    "import pandas as pd \n",
    "import numpy as np \n",
    "import seaborn as sns \n",
    "import matplotlib.pyplot as plt \n",
    "from sklearn.linear_model import LogisticRegression\n",
    "from sklearn.metrics import accuracy_score"
   ]
  },
  {
   "cell_type": "code",
   "execution_count": 3,
   "id": "f5ed17f6",
   "metadata": {
    "execution": {
     "iopub.execute_input": "2024-04-18T10:05:12.915589Z",
     "iopub.status.busy": "2024-04-18T10:05:12.914691Z",
     "iopub.status.idle": "2024-04-18T10:05:17.618419Z",
     "shell.execute_reply": "2024-04-18T10:05:17.617354Z"
    },
    "papermill": {
     "duration": 4.719189,
     "end_time": "2024-04-18T10:05:17.620643",
     "exception": false,
     "start_time": "2024-04-18T10:05:12.901454",
     "status": "completed"
    },
    "tags": []
   },
   "outputs": [
    {
     "data": {
      "text/html": [
       "<div>\n",
       "<style scoped>\n",
       "    .dataframe tbody tr th:only-of-type {\n",
       "        vertical-align: middle;\n",
       "    }\n",
       "\n",
       "    .dataframe tbody tr th {\n",
       "        vertical-align: top;\n",
       "    }\n",
       "\n",
       "    .dataframe thead th {\n",
       "        text-align: right;\n",
       "    }\n",
       "</style>\n",
       "<table border=\"1\" class=\"dataframe\">\n",
       "  <thead>\n",
       "    <tr style=\"text-align: right;\">\n",
       "      <th></th>\n",
       "      <th>Time</th>\n",
       "      <th>V1</th>\n",
       "      <th>V2</th>\n",
       "      <th>V3</th>\n",
       "      <th>V4</th>\n",
       "      <th>V5</th>\n",
       "      <th>V6</th>\n",
       "      <th>V7</th>\n",
       "      <th>V8</th>\n",
       "      <th>V9</th>\n",
       "      <th>...</th>\n",
       "      <th>V21</th>\n",
       "      <th>V22</th>\n",
       "      <th>V23</th>\n",
       "      <th>V24</th>\n",
       "      <th>V25</th>\n",
       "      <th>V26</th>\n",
       "      <th>V27</th>\n",
       "      <th>V28</th>\n",
       "      <th>Amount</th>\n",
       "      <th>Class</th>\n",
       "    </tr>\n",
       "  </thead>\n",
       "  <tbody>\n",
       "    <tr>\n",
       "      <th>0</th>\n",
       "      <td>0.0</td>\n",
       "      <td>-1.359807</td>\n",
       "      <td>-0.072781</td>\n",
       "      <td>2.536347</td>\n",
       "      <td>1.378155</td>\n",
       "      <td>-0.338321</td>\n",
       "      <td>0.462388</td>\n",
       "      <td>0.239599</td>\n",
       "      <td>0.098698</td>\n",
       "      <td>0.363787</td>\n",
       "      <td>...</td>\n",
       "      <td>-0.018307</td>\n",
       "      <td>0.277838</td>\n",
       "      <td>-0.110474</td>\n",
       "      <td>0.066928</td>\n",
       "      <td>0.128539</td>\n",
       "      <td>-0.189115</td>\n",
       "      <td>0.133558</td>\n",
       "      <td>-0.021053</td>\n",
       "      <td>149.62</td>\n",
       "      <td>0</td>\n",
       "    </tr>\n",
       "    <tr>\n",
       "      <th>1</th>\n",
       "      <td>0.0</td>\n",
       "      <td>1.191857</td>\n",
       "      <td>0.266151</td>\n",
       "      <td>0.166480</td>\n",
       "      <td>0.448154</td>\n",
       "      <td>0.060018</td>\n",
       "      <td>-0.082361</td>\n",
       "      <td>-0.078803</td>\n",
       "      <td>0.085102</td>\n",
       "      <td>-0.255425</td>\n",
       "      <td>...</td>\n",
       "      <td>-0.225775</td>\n",
       "      <td>-0.638672</td>\n",
       "      <td>0.101288</td>\n",
       "      <td>-0.339846</td>\n",
       "      <td>0.167170</td>\n",
       "      <td>0.125895</td>\n",
       "      <td>-0.008983</td>\n",
       "      <td>0.014724</td>\n",
       "      <td>2.69</td>\n",
       "      <td>0</td>\n",
       "    </tr>\n",
       "    <tr>\n",
       "      <th>2</th>\n",
       "      <td>1.0</td>\n",
       "      <td>-1.358354</td>\n",
       "      <td>-1.340163</td>\n",
       "      <td>1.773209</td>\n",
       "      <td>0.379780</td>\n",
       "      <td>-0.503198</td>\n",
       "      <td>1.800499</td>\n",
       "      <td>0.791461</td>\n",
       "      <td>0.247676</td>\n",
       "      <td>-1.514654</td>\n",
       "      <td>...</td>\n",
       "      <td>0.247998</td>\n",
       "      <td>0.771679</td>\n",
       "      <td>0.909412</td>\n",
       "      <td>-0.689281</td>\n",
       "      <td>-0.327642</td>\n",
       "      <td>-0.139097</td>\n",
       "      <td>-0.055353</td>\n",
       "      <td>-0.059752</td>\n",
       "      <td>378.66</td>\n",
       "      <td>0</td>\n",
       "    </tr>\n",
       "    <tr>\n",
       "      <th>3</th>\n",
       "      <td>1.0</td>\n",
       "      <td>-0.966272</td>\n",
       "      <td>-0.185226</td>\n",
       "      <td>1.792993</td>\n",
       "      <td>-0.863291</td>\n",
       "      <td>-0.010309</td>\n",
       "      <td>1.247203</td>\n",
       "      <td>0.237609</td>\n",
       "      <td>0.377436</td>\n",
       "      <td>-1.387024</td>\n",
       "      <td>...</td>\n",
       "      <td>-0.108300</td>\n",
       "      <td>0.005274</td>\n",
       "      <td>-0.190321</td>\n",
       "      <td>-1.175575</td>\n",
       "      <td>0.647376</td>\n",
       "      <td>-0.221929</td>\n",
       "      <td>0.062723</td>\n",
       "      <td>0.061458</td>\n",
       "      <td>123.50</td>\n",
       "      <td>0</td>\n",
       "    </tr>\n",
       "    <tr>\n",
       "      <th>4</th>\n",
       "      <td>2.0</td>\n",
       "      <td>-1.158233</td>\n",
       "      <td>0.877737</td>\n",
       "      <td>1.548718</td>\n",
       "      <td>0.403034</td>\n",
       "      <td>-0.407193</td>\n",
       "      <td>0.095921</td>\n",
       "      <td>0.592941</td>\n",
       "      <td>-0.270533</td>\n",
       "      <td>0.817739</td>\n",
       "      <td>...</td>\n",
       "      <td>-0.009431</td>\n",
       "      <td>0.798278</td>\n",
       "      <td>-0.137458</td>\n",
       "      <td>0.141267</td>\n",
       "      <td>-0.206010</td>\n",
       "      <td>0.502292</td>\n",
       "      <td>0.219422</td>\n",
       "      <td>0.215153</td>\n",
       "      <td>69.99</td>\n",
       "      <td>0</td>\n",
       "    </tr>\n",
       "  </tbody>\n",
       "</table>\n",
       "<p>5 rows × 31 columns</p>\n",
       "</div>"
      ],
      "text/plain": [
       "   Time        V1        V2        V3        V4        V5        V6        V7  \\\n",
       "0   0.0 -1.359807 -0.072781  2.536347  1.378155 -0.338321  0.462388  0.239599   \n",
       "1   0.0  1.191857  0.266151  0.166480  0.448154  0.060018 -0.082361 -0.078803   \n",
       "2   1.0 -1.358354 -1.340163  1.773209  0.379780 -0.503198  1.800499  0.791461   \n",
       "3   1.0 -0.966272 -0.185226  1.792993 -0.863291 -0.010309  1.247203  0.237609   \n",
       "4   2.0 -1.158233  0.877737  1.548718  0.403034 -0.407193  0.095921  0.592941   \n",
       "\n",
       "         V8        V9  ...       V21       V22       V23       V24       V25  \\\n",
       "0  0.098698  0.363787  ... -0.018307  0.277838 -0.110474  0.066928  0.128539   \n",
       "1  0.085102 -0.255425  ... -0.225775 -0.638672  0.101288 -0.339846  0.167170   \n",
       "2  0.247676 -1.514654  ...  0.247998  0.771679  0.909412 -0.689281 -0.327642   \n",
       "3  0.377436 -1.387024  ... -0.108300  0.005274 -0.190321 -1.175575  0.647376   \n",
       "4 -0.270533  0.817739  ... -0.009431  0.798278 -0.137458  0.141267 -0.206010   \n",
       "\n",
       "        V26       V27       V28  Amount  Class  \n",
       "0 -0.189115  0.133558 -0.021053  149.62      0  \n",
       "1  0.125895 -0.008983  0.014724    2.69      0  \n",
       "2 -0.139097 -0.055353 -0.059752  378.66      0  \n",
       "3 -0.221929  0.062723  0.061458  123.50      0  \n",
       "4  0.502292  0.219422  0.215153   69.99      0  \n",
       "\n",
       "[5 rows x 31 columns]"
      ]
     },
     "execution_count": 3,
     "metadata": {},
     "output_type": "execute_result"
    }
   ],
   "source": [
    "# Read DataSet\n",
    "dataset = pd.read_csv('/kaggle/input/creditcardfraud/creditcard.csv')\n",
    "dataset.head()\n"
   ]
  },
  {
   "cell_type": "code",
   "execution_count": 4,
   "id": "8fc1b029",
   "metadata": {
    "execution": {
     "iopub.execute_input": "2024-04-18T10:05:17.647535Z",
     "iopub.status.busy": "2024-04-18T10:05:17.647136Z",
     "iopub.status.idle": "2024-04-18T10:05:17.676552Z",
     "shell.execute_reply": "2024-04-18T10:05:17.675586Z"
    },
    "papermill": {
     "duration": 0.045786,
     "end_time": "2024-04-18T10:05:17.679107",
     "exception": false,
     "start_time": "2024-04-18T10:05:17.633321",
     "status": "completed"
    },
    "tags": []
   },
   "outputs": [
    {
     "data": {
      "text/html": [
       "<div>\n",
       "<style scoped>\n",
       "    .dataframe tbody tr th:only-of-type {\n",
       "        vertical-align: middle;\n",
       "    }\n",
       "\n",
       "    .dataframe tbody tr th {\n",
       "        vertical-align: top;\n",
       "    }\n",
       "\n",
       "    .dataframe thead th {\n",
       "        text-align: right;\n",
       "    }\n",
       "</style>\n",
       "<table border=\"1\" class=\"dataframe\">\n",
       "  <thead>\n",
       "    <tr style=\"text-align: right;\">\n",
       "      <th></th>\n",
       "      <th>Time</th>\n",
       "      <th>V1</th>\n",
       "      <th>V2</th>\n",
       "      <th>V3</th>\n",
       "      <th>V4</th>\n",
       "      <th>V5</th>\n",
       "      <th>V6</th>\n",
       "      <th>V7</th>\n",
       "      <th>V8</th>\n",
       "      <th>V9</th>\n",
       "      <th>...</th>\n",
       "      <th>V21</th>\n",
       "      <th>V22</th>\n",
       "      <th>V23</th>\n",
       "      <th>V24</th>\n",
       "      <th>V25</th>\n",
       "      <th>V26</th>\n",
       "      <th>V27</th>\n",
       "      <th>V28</th>\n",
       "      <th>Amount</th>\n",
       "      <th>Class</th>\n",
       "    </tr>\n",
       "  </thead>\n",
       "  <tbody>\n",
       "    <tr>\n",
       "      <th>284802</th>\n",
       "      <td>172786.0</td>\n",
       "      <td>-11.881118</td>\n",
       "      <td>10.071785</td>\n",
       "      <td>-9.834783</td>\n",
       "      <td>-2.066656</td>\n",
       "      <td>-5.364473</td>\n",
       "      <td>-2.606837</td>\n",
       "      <td>-4.918215</td>\n",
       "      <td>7.305334</td>\n",
       "      <td>1.914428</td>\n",
       "      <td>...</td>\n",
       "      <td>0.213454</td>\n",
       "      <td>0.111864</td>\n",
       "      <td>1.014480</td>\n",
       "      <td>-0.509348</td>\n",
       "      <td>1.436807</td>\n",
       "      <td>0.250034</td>\n",
       "      <td>0.943651</td>\n",
       "      <td>0.823731</td>\n",
       "      <td>0.77</td>\n",
       "      <td>0</td>\n",
       "    </tr>\n",
       "    <tr>\n",
       "      <th>284803</th>\n",
       "      <td>172787.0</td>\n",
       "      <td>-0.732789</td>\n",
       "      <td>-0.055080</td>\n",
       "      <td>2.035030</td>\n",
       "      <td>-0.738589</td>\n",
       "      <td>0.868229</td>\n",
       "      <td>1.058415</td>\n",
       "      <td>0.024330</td>\n",
       "      <td>0.294869</td>\n",
       "      <td>0.584800</td>\n",
       "      <td>...</td>\n",
       "      <td>0.214205</td>\n",
       "      <td>0.924384</td>\n",
       "      <td>0.012463</td>\n",
       "      <td>-1.016226</td>\n",
       "      <td>-0.606624</td>\n",
       "      <td>-0.395255</td>\n",
       "      <td>0.068472</td>\n",
       "      <td>-0.053527</td>\n",
       "      <td>24.79</td>\n",
       "      <td>0</td>\n",
       "    </tr>\n",
       "    <tr>\n",
       "      <th>284804</th>\n",
       "      <td>172788.0</td>\n",
       "      <td>1.919565</td>\n",
       "      <td>-0.301254</td>\n",
       "      <td>-3.249640</td>\n",
       "      <td>-0.557828</td>\n",
       "      <td>2.630515</td>\n",
       "      <td>3.031260</td>\n",
       "      <td>-0.296827</td>\n",
       "      <td>0.708417</td>\n",
       "      <td>0.432454</td>\n",
       "      <td>...</td>\n",
       "      <td>0.232045</td>\n",
       "      <td>0.578229</td>\n",
       "      <td>-0.037501</td>\n",
       "      <td>0.640134</td>\n",
       "      <td>0.265745</td>\n",
       "      <td>-0.087371</td>\n",
       "      <td>0.004455</td>\n",
       "      <td>-0.026561</td>\n",
       "      <td>67.88</td>\n",
       "      <td>0</td>\n",
       "    </tr>\n",
       "    <tr>\n",
       "      <th>284805</th>\n",
       "      <td>172788.0</td>\n",
       "      <td>-0.240440</td>\n",
       "      <td>0.530483</td>\n",
       "      <td>0.702510</td>\n",
       "      <td>0.689799</td>\n",
       "      <td>-0.377961</td>\n",
       "      <td>0.623708</td>\n",
       "      <td>-0.686180</td>\n",
       "      <td>0.679145</td>\n",
       "      <td>0.392087</td>\n",
       "      <td>...</td>\n",
       "      <td>0.265245</td>\n",
       "      <td>0.800049</td>\n",
       "      <td>-0.163298</td>\n",
       "      <td>0.123205</td>\n",
       "      <td>-0.569159</td>\n",
       "      <td>0.546668</td>\n",
       "      <td>0.108821</td>\n",
       "      <td>0.104533</td>\n",
       "      <td>10.00</td>\n",
       "      <td>0</td>\n",
       "    </tr>\n",
       "    <tr>\n",
       "      <th>284806</th>\n",
       "      <td>172792.0</td>\n",
       "      <td>-0.533413</td>\n",
       "      <td>-0.189733</td>\n",
       "      <td>0.703337</td>\n",
       "      <td>-0.506271</td>\n",
       "      <td>-0.012546</td>\n",
       "      <td>-0.649617</td>\n",
       "      <td>1.577006</td>\n",
       "      <td>-0.414650</td>\n",
       "      <td>0.486180</td>\n",
       "      <td>...</td>\n",
       "      <td>0.261057</td>\n",
       "      <td>0.643078</td>\n",
       "      <td>0.376777</td>\n",
       "      <td>0.008797</td>\n",
       "      <td>-0.473649</td>\n",
       "      <td>-0.818267</td>\n",
       "      <td>-0.002415</td>\n",
       "      <td>0.013649</td>\n",
       "      <td>217.00</td>\n",
       "      <td>0</td>\n",
       "    </tr>\n",
       "  </tbody>\n",
       "</table>\n",
       "<p>5 rows × 31 columns</p>\n",
       "</div>"
      ],
      "text/plain": [
       "            Time         V1         V2        V3        V4        V5  \\\n",
       "284802  172786.0 -11.881118  10.071785 -9.834783 -2.066656 -5.364473   \n",
       "284803  172787.0  -0.732789  -0.055080  2.035030 -0.738589  0.868229   \n",
       "284804  172788.0   1.919565  -0.301254 -3.249640 -0.557828  2.630515   \n",
       "284805  172788.0  -0.240440   0.530483  0.702510  0.689799 -0.377961   \n",
       "284806  172792.0  -0.533413  -0.189733  0.703337 -0.506271 -0.012546   \n",
       "\n",
       "              V6        V7        V8        V9  ...       V21       V22  \\\n",
       "284802 -2.606837 -4.918215  7.305334  1.914428  ...  0.213454  0.111864   \n",
       "284803  1.058415  0.024330  0.294869  0.584800  ...  0.214205  0.924384   \n",
       "284804  3.031260 -0.296827  0.708417  0.432454  ...  0.232045  0.578229   \n",
       "284805  0.623708 -0.686180  0.679145  0.392087  ...  0.265245  0.800049   \n",
       "284806 -0.649617  1.577006 -0.414650  0.486180  ...  0.261057  0.643078   \n",
       "\n",
       "             V23       V24       V25       V26       V27       V28  Amount  \\\n",
       "284802  1.014480 -0.509348  1.436807  0.250034  0.943651  0.823731    0.77   \n",
       "284803  0.012463 -1.016226 -0.606624 -0.395255  0.068472 -0.053527   24.79   \n",
       "284804 -0.037501  0.640134  0.265745 -0.087371  0.004455 -0.026561   67.88   \n",
       "284805 -0.163298  0.123205 -0.569159  0.546668  0.108821  0.104533   10.00   \n",
       "284806  0.376777  0.008797 -0.473649 -0.818267 -0.002415  0.013649  217.00   \n",
       "\n",
       "        Class  \n",
       "284802      0  \n",
       "284803      0  \n",
       "284804      0  \n",
       "284805      0  \n",
       "284806      0  \n",
       "\n",
       "[5 rows x 31 columns]"
      ]
     },
     "execution_count": 4,
     "metadata": {},
     "output_type": "execute_result"
    }
   ],
   "source": [
    "dataset.tail()"
   ]
  },
  {
   "cell_type": "code",
   "execution_count": 5,
   "id": "d39d7947",
   "metadata": {
    "execution": {
     "iopub.execute_input": "2024-04-18T10:05:17.708074Z",
     "iopub.status.busy": "2024-04-18T10:05:17.707684Z",
     "iopub.status.idle": "2024-04-18T10:05:17.714843Z",
     "shell.execute_reply": "2024-04-18T10:05:17.713677Z"
    },
    "papermill": {
     "duration": 0.024368,
     "end_time": "2024-04-18T10:05:17.717465",
     "exception": false,
     "start_time": "2024-04-18T10:05:17.693097",
     "status": "completed"
    },
    "tags": []
   },
   "outputs": [
    {
     "data": {
      "text/plain": [
       "(284807, 31)"
      ]
     },
     "execution_count": 5,
     "metadata": {},
     "output_type": "execute_result"
    }
   ],
   "source": [
    "# use shape function to check the total number rows and columns in our dataset\n",
    "dataset.shape"
   ]
  },
  {
   "cell_type": "code",
   "execution_count": 6,
   "id": "7f87bb4e",
   "metadata": {
    "execution": {
     "iopub.execute_input": "2024-04-18T10:05:17.745540Z",
     "iopub.status.busy": "2024-04-18T10:05:17.745161Z",
     "iopub.status.idle": "2024-04-18T10:05:17.785131Z",
     "shell.execute_reply": "2024-04-18T10:05:17.783727Z"
    },
    "papermill": {
     "duration": 0.057531,
     "end_time": "2024-04-18T10:05:17.787962",
     "exception": false,
     "start_time": "2024-04-18T10:05:17.730431",
     "status": "completed"
    },
    "tags": []
   },
   "outputs": [
    {
     "name": "stdout",
     "output_type": "stream",
     "text": [
      "<class 'pandas.core.frame.DataFrame'>\n",
      "RangeIndex: 284807 entries, 0 to 284806\n",
      "Data columns (total 31 columns):\n",
      " #   Column  Non-Null Count   Dtype  \n",
      "---  ------  --------------   -----  \n",
      " 0   Time    284807 non-null  float64\n",
      " 1   V1      284807 non-null  float64\n",
      " 2   V2      284807 non-null  float64\n",
      " 3   V3      284807 non-null  float64\n",
      " 4   V4      284807 non-null  float64\n",
      " 5   V5      284807 non-null  float64\n",
      " 6   V6      284807 non-null  float64\n",
      " 7   V7      284807 non-null  float64\n",
      " 8   V8      284807 non-null  float64\n",
      " 9   V9      284807 non-null  float64\n",
      " 10  V10     284807 non-null  float64\n",
      " 11  V11     284807 non-null  float64\n",
      " 12  V12     284807 non-null  float64\n",
      " 13  V13     284807 non-null  float64\n",
      " 14  V14     284807 non-null  float64\n",
      " 15  V15     284807 non-null  float64\n",
      " 16  V16     284807 non-null  float64\n",
      " 17  V17     284807 non-null  float64\n",
      " 18  V18     284807 non-null  float64\n",
      " 19  V19     284807 non-null  float64\n",
      " 20  V20     284807 non-null  float64\n",
      " 21  V21     284807 non-null  float64\n",
      " 22  V22     284807 non-null  float64\n",
      " 23  V23     284807 non-null  float64\n",
      " 24  V24     284807 non-null  float64\n",
      " 25  V25     284807 non-null  float64\n",
      " 26  V26     284807 non-null  float64\n",
      " 27  V27     284807 non-null  float64\n",
      " 28  V28     284807 non-null  float64\n",
      " 29  Amount  284807 non-null  float64\n",
      " 30  Class   284807 non-null  int64  \n",
      "dtypes: float64(30), int64(1)\n",
      "memory usage: 67.4 MB\n"
     ]
    }
   ],
   "source": [
    "# use info function to about the know about the datatypes \n",
    "dataset.info()"
   ]
  },
  {
   "cell_type": "code",
   "execution_count": 7,
   "id": "3f1233c0",
   "metadata": {
    "execution": {
     "iopub.execute_input": "2024-04-18T10:05:17.815918Z",
     "iopub.status.busy": "2024-04-18T10:05:17.815533Z",
     "iopub.status.idle": "2024-04-18T10:05:17.838777Z",
     "shell.execute_reply": "2024-04-18T10:05:17.837704Z"
    },
    "papermill": {
     "duration": 0.039848,
     "end_time": "2024-04-18T10:05:17.841210",
     "exception": false,
     "start_time": "2024-04-18T10:05:17.801362",
     "status": "completed"
    },
    "tags": []
   },
   "outputs": [
    {
     "data": {
      "text/plain": [
       "Time      0.0\n",
       "V1        0.0\n",
       "V2        0.0\n",
       "V3        0.0\n",
       "V4        0.0\n",
       "V5        0.0\n",
       "V6        0.0\n",
       "V7        0.0\n",
       "V8        0.0\n",
       "V9        0.0\n",
       "V10       0.0\n",
       "V11       0.0\n",
       "V12       0.0\n",
       "V13       0.0\n",
       "V14       0.0\n",
       "V15       0.0\n",
       "V16       0.0\n",
       "V17       0.0\n",
       "V18       0.0\n",
       "V19       0.0\n",
       "V20       0.0\n",
       "V21       0.0\n",
       "V22       0.0\n",
       "V23       0.0\n",
       "V24       0.0\n",
       "V25       0.0\n",
       "V26       0.0\n",
       "V27       0.0\n",
       "V28       0.0\n",
       "Amount    0.0\n",
       "Class     0.0\n",
       "dtype: float64"
      ]
     },
     "execution_count": 7,
     "metadata": {},
     "output_type": "execute_result"
    }
   ],
   "source": [
    "# find missing values in the form of percentage\n",
    "(dataset.isnull().sum()/dataset.shape[0])*100"
   ]
  },
  {
   "cell_type": "code",
   "execution_count": 8,
   "id": "b6be5387",
   "metadata": {
    "execution": {
     "iopub.execute_input": "2024-04-18T10:05:17.869795Z",
     "iopub.status.busy": "2024-04-18T10:05:17.869311Z",
     "iopub.status.idle": "2024-04-18T10:05:17.882524Z",
     "shell.execute_reply": "2024-04-18T10:05:17.881711Z"
    },
    "papermill": {
     "duration": 0.030188,
     "end_time": "2024-04-18T10:05:17.884851",
     "exception": false,
     "start_time": "2024-04-18T10:05:17.854663",
     "status": "completed"
    },
    "tags": []
   },
   "outputs": [
    {
     "data": {
      "text/plain": [
       "Class\n",
       "0    284315\n",
       "1       492\n",
       "Name: count, dtype: int64"
      ]
     },
     "execution_count": 8,
     "metadata": {},
     "output_type": "execute_result"
    }
   ],
   "source": [
    "# distribution of legit transactions & fraudulent transactions\n",
    "dataset['Class'].value_counts()\n"
   ]
  },
  {
   "cell_type": "markdown",
   "id": "2692d387",
   "metadata": {
    "papermill": {
     "duration": 0.01335,
     "end_time": "2024-04-18T10:05:17.911577",
     "exception": false,
     "start_time": "2024-04-18T10:05:17.898227",
     "status": "completed"
    },
    "tags": []
   },
   "source": [
    "### the data is heighly unbalanced "
   ]
  },
  {
   "cell_type": "markdown",
   "id": "1de78ac6",
   "metadata": {
    "papermill": {
     "duration": 0.012872,
     "end_time": "2024-04-18T10:05:17.938003",
     "exception": false,
     "start_time": "2024-04-18T10:05:17.925131",
     "status": "completed"
    },
    "tags": []
   },
   "source": [
    "0 ------> Represent Normal Transactions\n",
    "\n",
    "1 ------> Represent fraudulent Transactions"
   ]
  },
  {
   "cell_type": "code",
   "execution_count": 9,
   "id": "cd196cf2",
   "metadata": {
    "execution": {
     "iopub.execute_input": "2024-04-18T10:05:17.966147Z",
     "iopub.status.busy": "2024-04-18T10:05:17.965755Z",
     "iopub.status.idle": "2024-04-18T10:05:18.012555Z",
     "shell.execute_reply": "2024-04-18T10:05:18.011299Z"
    },
    "papermill": {
     "duration": 0.063951,
     "end_time": "2024-04-18T10:05:18.015204",
     "exception": false,
     "start_time": "2024-04-18T10:05:17.951253",
     "status": "completed"
    },
    "tags": []
   },
   "outputs": [],
   "source": [
    "# separating the data for analysis\n",
    "legit = dataset[dataset.Class==0]\n",
    "fraud = dataset[dataset.Class==1]"
   ]
  },
  {
   "cell_type": "code",
   "execution_count": 10,
   "id": "eaaaa54d",
   "metadata": {
    "execution": {
     "iopub.execute_input": "2024-04-18T10:05:18.043929Z",
     "iopub.status.busy": "2024-04-18T10:05:18.043485Z",
     "iopub.status.idle": "2024-04-18T10:05:18.049297Z",
     "shell.execute_reply": "2024-04-18T10:05:18.048102Z"
    },
    "papermill": {
     "duration": 0.022868,
     "end_time": "2024-04-18T10:05:18.051695",
     "exception": false,
     "start_time": "2024-04-18T10:05:18.028827",
     "status": "completed"
    },
    "tags": []
   },
   "outputs": [
    {
     "name": "stdout",
     "output_type": "stream",
     "text": [
      "(284315, 31)\n",
      "(492, 31)\n"
     ]
    }
   ],
   "source": [
    "print(legit.shape)\n",
    "print(fraud.shape)"
   ]
  },
  {
   "cell_type": "code",
   "execution_count": 11,
   "id": "750bcba7",
   "metadata": {
    "execution": {
     "iopub.execute_input": "2024-04-18T10:05:18.080811Z",
     "iopub.status.busy": "2024-04-18T10:05:18.080367Z",
     "iopub.status.idle": "2024-04-18T10:05:18.105811Z",
     "shell.execute_reply": "2024-04-18T10:05:18.104694Z"
    },
    "papermill": {
     "duration": 0.042541,
     "end_time": "2024-04-18T10:05:18.108035",
     "exception": false,
     "start_time": "2024-04-18T10:05:18.065494",
     "status": "completed"
    },
    "tags": []
   },
   "outputs": [
    {
     "data": {
      "text/plain": [
       "count    284315.000000\n",
       "mean         88.291022\n",
       "std         250.105092\n",
       "min           0.000000\n",
       "25%           5.650000\n",
       "50%          22.000000\n",
       "75%          77.050000\n",
       "max       25691.160000\n",
       "Name: Amount, dtype: float64"
      ]
     },
     "execution_count": 11,
     "metadata": {},
     "output_type": "execute_result"
    }
   ],
   "source": [
    "# Statistical measurement of the data \n",
    "legit.Amount.describe()"
   ]
  },
  {
   "cell_type": "code",
   "execution_count": 12,
   "id": "613a81ba",
   "metadata": {
    "execution": {
     "iopub.execute_input": "2024-04-18T10:05:18.137294Z",
     "iopub.status.busy": "2024-04-18T10:05:18.136623Z",
     "iopub.status.idle": "2024-04-18T10:05:18.146979Z",
     "shell.execute_reply": "2024-04-18T10:05:18.145774Z"
    },
    "papermill": {
     "duration": 0.027489,
     "end_time": "2024-04-18T10:05:18.149220",
     "exception": false,
     "start_time": "2024-04-18T10:05:18.121731",
     "status": "completed"
    },
    "tags": []
   },
   "outputs": [
    {
     "data": {
      "text/plain": [
       "count     492.000000\n",
       "mean      122.211321\n",
       "std       256.683288\n",
       "min         0.000000\n",
       "25%         1.000000\n",
       "50%         9.250000\n",
       "75%       105.890000\n",
       "max      2125.870000\n",
       "Name: Amount, dtype: float64"
      ]
     },
     "execution_count": 12,
     "metadata": {},
     "output_type": "execute_result"
    }
   ],
   "source": [
    "fraud.Amount.describe()"
   ]
  },
  {
   "cell_type": "code",
   "execution_count": 13,
   "id": "747355ff",
   "metadata": {
    "execution": {
     "iopub.execute_input": "2024-04-18T10:05:18.178762Z",
     "iopub.status.busy": "2024-04-18T10:05:18.177887Z",
     "iopub.status.idle": "2024-04-18T10:05:18.318896Z",
     "shell.execute_reply": "2024-04-18T10:05:18.317710Z"
    },
    "papermill": {
     "duration": 0.158239,
     "end_time": "2024-04-18T10:05:18.321334",
     "exception": false,
     "start_time": "2024-04-18T10:05:18.163095",
     "status": "completed"
    },
    "tags": []
   },
   "outputs": [
    {
     "data": {
      "text/html": [
       "<div>\n",
       "<style scoped>\n",
       "    .dataframe tbody tr th:only-of-type {\n",
       "        vertical-align: middle;\n",
       "    }\n",
       "\n",
       "    .dataframe tbody tr th {\n",
       "        vertical-align: top;\n",
       "    }\n",
       "\n",
       "    .dataframe thead th {\n",
       "        text-align: right;\n",
       "    }\n",
       "</style>\n",
       "<table border=\"1\" class=\"dataframe\">\n",
       "  <thead>\n",
       "    <tr style=\"text-align: right;\">\n",
       "      <th></th>\n",
       "      <th>Time</th>\n",
       "      <th>V1</th>\n",
       "      <th>V2</th>\n",
       "      <th>V3</th>\n",
       "      <th>V4</th>\n",
       "      <th>V5</th>\n",
       "      <th>V6</th>\n",
       "      <th>V7</th>\n",
       "      <th>V8</th>\n",
       "      <th>V9</th>\n",
       "      <th>...</th>\n",
       "      <th>V20</th>\n",
       "      <th>V21</th>\n",
       "      <th>V22</th>\n",
       "      <th>V23</th>\n",
       "      <th>V24</th>\n",
       "      <th>V25</th>\n",
       "      <th>V26</th>\n",
       "      <th>V27</th>\n",
       "      <th>V28</th>\n",
       "      <th>Amount</th>\n",
       "    </tr>\n",
       "    <tr>\n",
       "      <th>Class</th>\n",
       "      <th></th>\n",
       "      <th></th>\n",
       "      <th></th>\n",
       "      <th></th>\n",
       "      <th></th>\n",
       "      <th></th>\n",
       "      <th></th>\n",
       "      <th></th>\n",
       "      <th></th>\n",
       "      <th></th>\n",
       "      <th></th>\n",
       "      <th></th>\n",
       "      <th></th>\n",
       "      <th></th>\n",
       "      <th></th>\n",
       "      <th></th>\n",
       "      <th></th>\n",
       "      <th></th>\n",
       "      <th></th>\n",
       "      <th></th>\n",
       "      <th></th>\n",
       "    </tr>\n",
       "  </thead>\n",
       "  <tbody>\n",
       "    <tr>\n",
       "      <th>0</th>\n",
       "      <td>94838.202258</td>\n",
       "      <td>0.008258</td>\n",
       "      <td>-0.006271</td>\n",
       "      <td>0.012171</td>\n",
       "      <td>-0.007860</td>\n",
       "      <td>0.005453</td>\n",
       "      <td>0.002419</td>\n",
       "      <td>0.009637</td>\n",
       "      <td>-0.000987</td>\n",
       "      <td>0.004467</td>\n",
       "      <td>...</td>\n",
       "      <td>-0.000644</td>\n",
       "      <td>-0.001235</td>\n",
       "      <td>-0.000024</td>\n",
       "      <td>0.000070</td>\n",
       "      <td>0.000182</td>\n",
       "      <td>-0.000072</td>\n",
       "      <td>-0.000089</td>\n",
       "      <td>-0.000295</td>\n",
       "      <td>-0.000131</td>\n",
       "      <td>88.291022</td>\n",
       "    </tr>\n",
       "    <tr>\n",
       "      <th>1</th>\n",
       "      <td>80746.806911</td>\n",
       "      <td>-4.771948</td>\n",
       "      <td>3.623778</td>\n",
       "      <td>-7.033281</td>\n",
       "      <td>4.542029</td>\n",
       "      <td>-3.151225</td>\n",
       "      <td>-1.397737</td>\n",
       "      <td>-5.568731</td>\n",
       "      <td>0.570636</td>\n",
       "      <td>-2.581123</td>\n",
       "      <td>...</td>\n",
       "      <td>0.372319</td>\n",
       "      <td>0.713588</td>\n",
       "      <td>0.014049</td>\n",
       "      <td>-0.040308</td>\n",
       "      <td>-0.105130</td>\n",
       "      <td>0.041449</td>\n",
       "      <td>0.051648</td>\n",
       "      <td>0.170575</td>\n",
       "      <td>0.075667</td>\n",
       "      <td>122.211321</td>\n",
       "    </tr>\n",
       "  </tbody>\n",
       "</table>\n",
       "<p>2 rows × 30 columns</p>\n",
       "</div>"
      ],
      "text/plain": [
       "               Time        V1        V2        V3        V4        V5  \\\n",
       "Class                                                                   \n",
       "0      94838.202258  0.008258 -0.006271  0.012171 -0.007860  0.005453   \n",
       "1      80746.806911 -4.771948  3.623778 -7.033281  4.542029 -3.151225   \n",
       "\n",
       "             V6        V7        V8        V9  ...       V20       V21  \\\n",
       "Class                                          ...                       \n",
       "0      0.002419  0.009637 -0.000987  0.004467  ... -0.000644 -0.001235   \n",
       "1     -1.397737 -5.568731  0.570636 -2.581123  ...  0.372319  0.713588   \n",
       "\n",
       "            V22       V23       V24       V25       V26       V27       V28  \\\n",
       "Class                                                                         \n",
       "0     -0.000024  0.000070  0.000182 -0.000072 -0.000089 -0.000295 -0.000131   \n",
       "1      0.014049 -0.040308 -0.105130  0.041449  0.051648  0.170575  0.075667   \n",
       "\n",
       "           Amount  \n",
       "Class              \n",
       "0       88.291022  \n",
       "1      122.211321  \n",
       "\n",
       "[2 rows x 30 columns]"
      ]
     },
     "execution_count": 13,
     "metadata": {},
     "output_type": "execute_result"
    }
   ],
   "source": [
    "# Compare the values for both Transactions like legit and fraud\n",
    "dataset.groupby('Class').mean()"
   ]
  },
  {
   "cell_type": "markdown",
   "id": "6a925f55",
   "metadata": {
    "papermill": {
     "duration": 0.014433,
     "end_time": "2024-04-18T10:05:18.350422",
     "exception": false,
     "start_time": "2024-04-18T10:05:18.335989",
     "status": "completed"
    },
    "tags": []
   },
   "source": [
    "### Under-Sampling"
   ]
  },
  {
   "cell_type": "markdown",
   "id": "e9ac7020",
   "metadata": {
    "papermill": {
     "duration": 0.013695,
     "end_time": "2024-04-18T10:05:18.378402",
     "exception": false,
     "start_time": "2024-04-18T10:05:18.364707",
     "status": "completed"
    },
    "tags": []
   },
   "source": [
    "Build a sample dataset containing similar distribution of of Normal Transaction and Fraud TransactionTr\n",
    "\n",
    "Number of Fraudent Transaction ---> 492"
   ]
  },
  {
   "cell_type": "code",
   "execution_count": 14,
   "id": "43158339",
   "metadata": {
    "execution": {
     "iopub.execute_input": "2024-04-18T10:05:18.408977Z",
     "iopub.status.busy": "2024-04-18T10:05:18.408555Z",
     "iopub.status.idle": "2024-04-18T10:05:18.423598Z",
     "shell.execute_reply": "2024-04-18T10:05:18.422335Z"
    },
    "papermill": {
     "duration": 0.033886,
     "end_time": "2024-04-18T10:05:18.426397",
     "exception": false,
     "start_time": "2024-04-18T10:05:18.392511",
     "status": "completed"
    },
    "tags": []
   },
   "outputs": [],
   "source": [
    "legit_sample = legit.sample(n=492)"
   ]
  },
  {
   "cell_type": "markdown",
   "id": "2a57eb02",
   "metadata": {
    "papermill": {
     "duration": 0.013936,
     "end_time": "2024-04-18T10:05:18.454966",
     "exception": false,
     "start_time": "2024-04-18T10:05:18.441030",
     "status": "completed"
    },
    "tags": []
   },
   "source": [
    "### Concatinating two Dataframes"
   ]
  },
  {
   "cell_type": "code",
   "execution_count": 15,
   "id": "cea3e242",
   "metadata": {
    "execution": {
     "iopub.execute_input": "2024-04-18T10:05:18.486248Z",
     "iopub.status.busy": "2024-04-18T10:05:18.485467Z",
     "iopub.status.idle": "2024-04-18T10:05:18.491582Z",
     "shell.execute_reply": "2024-04-18T10:05:18.490717Z"
    },
    "papermill": {
     "duration": 0.024905,
     "end_time": "2024-04-18T10:05:18.494137",
     "exception": false,
     "start_time": "2024-04-18T10:05:18.469232",
     "status": "completed"
    },
    "tags": []
   },
   "outputs": [],
   "source": [
    "new_dataset = pd.concat([legit_sample,fraud], axis=0)"
   ]
  },
  {
   "cell_type": "code",
   "execution_count": 16,
   "id": "d897f190",
   "metadata": {
    "execution": {
     "iopub.execute_input": "2024-04-18T10:05:18.525145Z",
     "iopub.status.busy": "2024-04-18T10:05:18.524039Z",
     "iopub.status.idle": "2024-04-18T10:05:18.553316Z",
     "shell.execute_reply": "2024-04-18T10:05:18.552087Z"
    },
    "papermill": {
     "duration": 0.047548,
     "end_time": "2024-04-18T10:05:18.555999",
     "exception": false,
     "start_time": "2024-04-18T10:05:18.508451",
     "status": "completed"
    },
    "tags": []
   },
   "outputs": [
    {
     "data": {
      "text/html": [
       "<div>\n",
       "<style scoped>\n",
       "    .dataframe tbody tr th:only-of-type {\n",
       "        vertical-align: middle;\n",
       "    }\n",
       "\n",
       "    .dataframe tbody tr th {\n",
       "        vertical-align: top;\n",
       "    }\n",
       "\n",
       "    .dataframe thead th {\n",
       "        text-align: right;\n",
       "    }\n",
       "</style>\n",
       "<table border=\"1\" class=\"dataframe\">\n",
       "  <thead>\n",
       "    <tr style=\"text-align: right;\">\n",
       "      <th></th>\n",
       "      <th>Time</th>\n",
       "      <th>V1</th>\n",
       "      <th>V2</th>\n",
       "      <th>V3</th>\n",
       "      <th>V4</th>\n",
       "      <th>V5</th>\n",
       "      <th>V6</th>\n",
       "      <th>V7</th>\n",
       "      <th>V8</th>\n",
       "      <th>V9</th>\n",
       "      <th>...</th>\n",
       "      <th>V21</th>\n",
       "      <th>V22</th>\n",
       "      <th>V23</th>\n",
       "      <th>V24</th>\n",
       "      <th>V25</th>\n",
       "      <th>V26</th>\n",
       "      <th>V27</th>\n",
       "      <th>V28</th>\n",
       "      <th>Amount</th>\n",
       "      <th>Class</th>\n",
       "    </tr>\n",
       "  </thead>\n",
       "  <tbody>\n",
       "    <tr>\n",
       "      <th>177299</th>\n",
       "      <td>123119.0</td>\n",
       "      <td>1.850927</td>\n",
       "      <td>-0.493285</td>\n",
       "      <td>-1.289210</td>\n",
       "      <td>0.457838</td>\n",
       "      <td>0.002925</td>\n",
       "      <td>0.070183</td>\n",
       "      <td>-0.429948</td>\n",
       "      <td>-0.010795</td>\n",
       "      <td>1.104275</td>\n",
       "      <td>...</td>\n",
       "      <td>0.144794</td>\n",
       "      <td>0.431053</td>\n",
       "      <td>-0.041025</td>\n",
       "      <td>0.019774</td>\n",
       "      <td>-0.116013</td>\n",
       "      <td>0.610913</td>\n",
       "      <td>-0.028805</td>\n",
       "      <td>-0.004124</td>\n",
       "      <td>111.00</td>\n",
       "      <td>0</td>\n",
       "    </tr>\n",
       "    <tr>\n",
       "      <th>115395</th>\n",
       "      <td>73859.0</td>\n",
       "      <td>1.564244</td>\n",
       "      <td>-0.969321</td>\n",
       "      <td>0.215783</td>\n",
       "      <td>-1.448906</td>\n",
       "      <td>-1.308961</td>\n",
       "      <td>-0.724972</td>\n",
       "      <td>-0.945403</td>\n",
       "      <td>-0.198330</td>\n",
       "      <td>-1.765672</td>\n",
       "      <td>...</td>\n",
       "      <td>-0.255197</td>\n",
       "      <td>-0.343908</td>\n",
       "      <td>-0.024624</td>\n",
       "      <td>-0.171254</td>\n",
       "      <td>0.451059</td>\n",
       "      <td>-0.172127</td>\n",
       "      <td>0.028043</td>\n",
       "      <td>0.014401</td>\n",
       "      <td>10.00</td>\n",
       "      <td>0</td>\n",
       "    </tr>\n",
       "    <tr>\n",
       "      <th>255897</th>\n",
       "      <td>157452.0</td>\n",
       "      <td>-0.911359</td>\n",
       "      <td>-0.835623</td>\n",
       "      <td>-1.031921</td>\n",
       "      <td>0.295906</td>\n",
       "      <td>1.271853</td>\n",
       "      <td>-1.589409</td>\n",
       "      <td>1.715831</td>\n",
       "      <td>-0.588872</td>\n",
       "      <td>-2.242781</td>\n",
       "      <td>...</td>\n",
       "      <td>0.315407</td>\n",
       "      <td>0.851683</td>\n",
       "      <td>0.385631</td>\n",
       "      <td>-0.021733</td>\n",
       "      <td>0.173368</td>\n",
       "      <td>-0.259105</td>\n",
       "      <td>0.092653</td>\n",
       "      <td>0.239149</td>\n",
       "      <td>247.00</td>\n",
       "      <td>0</td>\n",
       "    </tr>\n",
       "    <tr>\n",
       "      <th>102498</th>\n",
       "      <td>68230.0</td>\n",
       "      <td>1.226029</td>\n",
       "      <td>0.122562</td>\n",
       "      <td>0.386616</td>\n",
       "      <td>0.331453</td>\n",
       "      <td>-0.291581</td>\n",
       "      <td>-0.452676</td>\n",
       "      <td>-0.066291</td>\n",
       "      <td>-0.015212</td>\n",
       "      <td>-0.136914</td>\n",
       "      <td>...</td>\n",
       "      <td>-0.322493</td>\n",
       "      <td>-1.018555</td>\n",
       "      <td>0.138014</td>\n",
       "      <td>-0.061656</td>\n",
       "      <td>0.115669</td>\n",
       "      <td>0.107845</td>\n",
       "      <td>-0.043544</td>\n",
       "      <td>0.006971</td>\n",
       "      <td>12.11</td>\n",
       "      <td>0</td>\n",
       "    </tr>\n",
       "    <tr>\n",
       "      <th>146651</th>\n",
       "      <td>87802.0</td>\n",
       "      <td>-1.937944</td>\n",
       "      <td>-2.952790</td>\n",
       "      <td>-1.719233</td>\n",
       "      <td>-1.281131</td>\n",
       "      <td>1.905859</td>\n",
       "      <td>-1.217766</td>\n",
       "      <td>1.343122</td>\n",
       "      <td>-0.894213</td>\n",
       "      <td>-0.834981</td>\n",
       "      <td>...</td>\n",
       "      <td>-0.296499</td>\n",
       "      <td>0.208921</td>\n",
       "      <td>0.083544</td>\n",
       "      <td>0.142300</td>\n",
       "      <td>-1.581367</td>\n",
       "      <td>-0.143524</td>\n",
       "      <td>0.581699</td>\n",
       "      <td>-0.149504</td>\n",
       "      <td>494.99</td>\n",
       "      <td>0</td>\n",
       "    </tr>\n",
       "  </tbody>\n",
       "</table>\n",
       "<p>5 rows × 31 columns</p>\n",
       "</div>"
      ],
      "text/plain": [
       "            Time        V1        V2        V3        V4        V5        V6  \\\n",
       "177299  123119.0  1.850927 -0.493285 -1.289210  0.457838  0.002925  0.070183   \n",
       "115395   73859.0  1.564244 -0.969321  0.215783 -1.448906 -1.308961 -0.724972   \n",
       "255897  157452.0 -0.911359 -0.835623 -1.031921  0.295906  1.271853 -1.589409   \n",
       "102498   68230.0  1.226029  0.122562  0.386616  0.331453 -0.291581 -0.452676   \n",
       "146651   87802.0 -1.937944 -2.952790 -1.719233 -1.281131  1.905859 -1.217766   \n",
       "\n",
       "              V7        V8        V9  ...       V21       V22       V23  \\\n",
       "177299 -0.429948 -0.010795  1.104275  ...  0.144794  0.431053 -0.041025   \n",
       "115395 -0.945403 -0.198330 -1.765672  ... -0.255197 -0.343908 -0.024624   \n",
       "255897  1.715831 -0.588872 -2.242781  ...  0.315407  0.851683  0.385631   \n",
       "102498 -0.066291 -0.015212 -0.136914  ... -0.322493 -1.018555  0.138014   \n",
       "146651  1.343122 -0.894213 -0.834981  ... -0.296499  0.208921  0.083544   \n",
       "\n",
       "             V24       V25       V26       V27       V28  Amount  Class  \n",
       "177299  0.019774 -0.116013  0.610913 -0.028805 -0.004124  111.00      0  \n",
       "115395 -0.171254  0.451059 -0.172127  0.028043  0.014401   10.00      0  \n",
       "255897 -0.021733  0.173368 -0.259105  0.092653  0.239149  247.00      0  \n",
       "102498 -0.061656  0.115669  0.107845 -0.043544  0.006971   12.11      0  \n",
       "146651  0.142300 -1.581367 -0.143524  0.581699 -0.149504  494.99      0  \n",
       "\n",
       "[5 rows x 31 columns]"
      ]
     },
     "execution_count": 16,
     "metadata": {},
     "output_type": "execute_result"
    }
   ],
   "source": [
    "new_dataset.head()"
   ]
  },
  {
   "cell_type": "code",
   "execution_count": 17,
   "id": "90a11c72",
   "metadata": {
    "execution": {
     "iopub.execute_input": "2024-04-18T10:05:18.587762Z",
     "iopub.status.busy": "2024-04-18T10:05:18.587345Z",
     "iopub.status.idle": "2024-04-18T10:05:18.594826Z",
     "shell.execute_reply": "2024-04-18T10:05:18.593931Z"
    },
    "papermill": {
     "duration": 0.025977,
     "end_time": "2024-04-18T10:05:18.596847",
     "exception": false,
     "start_time": "2024-04-18T10:05:18.570870",
     "status": "completed"
    },
    "tags": []
   },
   "outputs": [
    {
     "data": {
      "text/plain": [
       "Class\n",
       "0    492\n",
       "1    492\n",
       "Name: count, dtype: int64"
      ]
     },
     "execution_count": 17,
     "metadata": {},
     "output_type": "execute_result"
    }
   ],
   "source": [
    "new_dataset['Class'].value_counts()"
   ]
  },
  {
   "cell_type": "code",
   "execution_count": 18,
   "id": "1a4f8bcc",
   "metadata": {
    "execution": {
     "iopub.execute_input": "2024-04-18T10:05:18.628307Z",
     "iopub.status.busy": "2024-04-18T10:05:18.627430Z",
     "iopub.status.idle": "2024-04-18T10:05:18.652900Z",
     "shell.execute_reply": "2024-04-18T10:05:18.651719Z"
    },
    "papermill": {
     "duration": 0.043517,
     "end_time": "2024-04-18T10:05:18.655434",
     "exception": false,
     "start_time": "2024-04-18T10:05:18.611917",
     "status": "completed"
    },
    "tags": []
   },
   "outputs": [
    {
     "data": {
      "text/html": [
       "<div>\n",
       "<style scoped>\n",
       "    .dataframe tbody tr th:only-of-type {\n",
       "        vertical-align: middle;\n",
       "    }\n",
       "\n",
       "    .dataframe tbody tr th {\n",
       "        vertical-align: top;\n",
       "    }\n",
       "\n",
       "    .dataframe thead th {\n",
       "        text-align: right;\n",
       "    }\n",
       "</style>\n",
       "<table border=\"1\" class=\"dataframe\">\n",
       "  <thead>\n",
       "    <tr style=\"text-align: right;\">\n",
       "      <th></th>\n",
       "      <th>Time</th>\n",
       "      <th>V1</th>\n",
       "      <th>V2</th>\n",
       "      <th>V3</th>\n",
       "      <th>V4</th>\n",
       "      <th>V5</th>\n",
       "      <th>V6</th>\n",
       "      <th>V7</th>\n",
       "      <th>V8</th>\n",
       "      <th>V9</th>\n",
       "      <th>...</th>\n",
       "      <th>V20</th>\n",
       "      <th>V21</th>\n",
       "      <th>V22</th>\n",
       "      <th>V23</th>\n",
       "      <th>V24</th>\n",
       "      <th>V25</th>\n",
       "      <th>V26</th>\n",
       "      <th>V27</th>\n",
       "      <th>V28</th>\n",
       "      <th>Amount</th>\n",
       "    </tr>\n",
       "    <tr>\n",
       "      <th>Class</th>\n",
       "      <th></th>\n",
       "      <th></th>\n",
       "      <th></th>\n",
       "      <th></th>\n",
       "      <th></th>\n",
       "      <th></th>\n",
       "      <th></th>\n",
       "      <th></th>\n",
       "      <th></th>\n",
       "      <th></th>\n",
       "      <th></th>\n",
       "      <th></th>\n",
       "      <th></th>\n",
       "      <th></th>\n",
       "      <th></th>\n",
       "      <th></th>\n",
       "      <th></th>\n",
       "      <th></th>\n",
       "      <th></th>\n",
       "      <th></th>\n",
       "      <th></th>\n",
       "    </tr>\n",
       "  </thead>\n",
       "  <tbody>\n",
       "    <tr>\n",
       "      <th>0</th>\n",
       "      <td>94246.038618</td>\n",
       "      <td>-0.036468</td>\n",
       "      <td>0.009596</td>\n",
       "      <td>-0.028361</td>\n",
       "      <td>-0.008605</td>\n",
       "      <td>0.062698</td>\n",
       "      <td>-0.091583</td>\n",
       "      <td>0.011034</td>\n",
       "      <td>0.073002</td>\n",
       "      <td>-0.049861</td>\n",
       "      <td>...</td>\n",
       "      <td>0.011475</td>\n",
       "      <td>-0.049051</td>\n",
       "      <td>0.027041</td>\n",
       "      <td>-0.000072</td>\n",
       "      <td>-0.007423</td>\n",
       "      <td>-0.006652</td>\n",
       "      <td>0.012237</td>\n",
       "      <td>0.014969</td>\n",
       "      <td>0.007707</td>\n",
       "      <td>77.578516</td>\n",
       "    </tr>\n",
       "    <tr>\n",
       "      <th>1</th>\n",
       "      <td>80746.806911</td>\n",
       "      <td>-4.771948</td>\n",
       "      <td>3.623778</td>\n",
       "      <td>-7.033281</td>\n",
       "      <td>4.542029</td>\n",
       "      <td>-3.151225</td>\n",
       "      <td>-1.397737</td>\n",
       "      <td>-5.568731</td>\n",
       "      <td>0.570636</td>\n",
       "      <td>-2.581123</td>\n",
       "      <td>...</td>\n",
       "      <td>0.372319</td>\n",
       "      <td>0.713588</td>\n",
       "      <td>0.014049</td>\n",
       "      <td>-0.040308</td>\n",
       "      <td>-0.105130</td>\n",
       "      <td>0.041449</td>\n",
       "      <td>0.051648</td>\n",
       "      <td>0.170575</td>\n",
       "      <td>0.075667</td>\n",
       "      <td>122.211321</td>\n",
       "    </tr>\n",
       "  </tbody>\n",
       "</table>\n",
       "<p>2 rows × 30 columns</p>\n",
       "</div>"
      ],
      "text/plain": [
       "               Time        V1        V2        V3        V4        V5  \\\n",
       "Class                                                                   \n",
       "0      94246.038618 -0.036468  0.009596 -0.028361 -0.008605  0.062698   \n",
       "1      80746.806911 -4.771948  3.623778 -7.033281  4.542029 -3.151225   \n",
       "\n",
       "             V6        V7        V8        V9  ...       V20       V21  \\\n",
       "Class                                          ...                       \n",
       "0     -0.091583  0.011034  0.073002 -0.049861  ...  0.011475 -0.049051   \n",
       "1     -1.397737 -5.568731  0.570636 -2.581123  ...  0.372319  0.713588   \n",
       "\n",
       "            V22       V23       V24       V25       V26       V27       V28  \\\n",
       "Class                                                                         \n",
       "0      0.027041 -0.000072 -0.007423 -0.006652  0.012237  0.014969  0.007707   \n",
       "1      0.014049 -0.040308 -0.105130  0.041449  0.051648  0.170575  0.075667   \n",
       "\n",
       "           Amount  \n",
       "Class              \n",
       "0       77.578516  \n",
       "1      122.211321  \n",
       "\n",
       "[2 rows x 30 columns]"
      ]
     },
     "execution_count": 18,
     "metadata": {},
     "output_type": "execute_result"
    }
   ],
   "source": [
    "new_dataset.groupby('Class').mean()"
   ]
  },
  {
   "cell_type": "markdown",
   "id": "3ef12ecb",
   "metadata": {
    "papermill": {
     "duration": 0.015165,
     "end_time": "2024-04-18T10:05:18.685689",
     "exception": false,
     "start_time": "2024-04-18T10:05:18.670524",
     "status": "completed"
    },
    "tags": []
   },
   "source": [
    "### Saplitting the data into features and target"
   ]
  },
  {
   "cell_type": "code",
   "execution_count": 19,
   "id": "e3f11617",
   "metadata": {
    "execution": {
     "iopub.execute_input": "2024-04-18T10:05:18.718227Z",
     "iopub.status.busy": "2024-04-18T10:05:18.717795Z",
     "iopub.status.idle": "2024-04-18T10:05:18.724113Z",
     "shell.execute_reply": "2024-04-18T10:05:18.722883Z"
    },
    "papermill": {
     "duration": 0.025107,
     "end_time": "2024-04-18T10:05:18.726470",
     "exception": false,
     "start_time": "2024-04-18T10:05:18.701363",
     "status": "completed"
    },
    "tags": []
   },
   "outputs": [],
   "source": [
    "x = new_dataset.drop(columns = 'Class' , axis=1)\n",
    "y = new_dataset['Class']"
   ]
  },
  {
   "cell_type": "code",
   "execution_count": 20,
   "id": "d6cd5ede",
   "metadata": {
    "execution": {
     "iopub.execute_input": "2024-04-18T10:05:18.758275Z",
     "iopub.status.busy": "2024-04-18T10:05:18.757896Z",
     "iopub.status.idle": "2024-04-18T10:05:18.776349Z",
     "shell.execute_reply": "2024-04-18T10:05:18.775179Z"
    },
    "papermill": {
     "duration": 0.037496,
     "end_time": "2024-04-18T10:05:18.779092",
     "exception": false,
     "start_time": "2024-04-18T10:05:18.741596",
     "status": "completed"
    },
    "tags": []
   },
   "outputs": [
    {
     "name": "stdout",
     "output_type": "stream",
     "text": [
      "            Time        V1        V2        V3        V4        V5        V6  \\\n",
      "177299  123119.0  1.850927 -0.493285 -1.289210  0.457838  0.002925  0.070183   \n",
      "115395   73859.0  1.564244 -0.969321  0.215783 -1.448906 -1.308961 -0.724972   \n",
      "255897  157452.0 -0.911359 -0.835623 -1.031921  0.295906  1.271853 -1.589409   \n",
      "102498   68230.0  1.226029  0.122562  0.386616  0.331453 -0.291581 -0.452676   \n",
      "146651   87802.0 -1.937944 -2.952790 -1.719233 -1.281131  1.905859 -1.217766   \n",
      "...          ...       ...       ...       ...       ...       ...       ...   \n",
      "279863  169142.0 -1.927883  1.125653 -4.518331  1.749293 -1.566487 -2.010494   \n",
      "280143  169347.0  1.378559  1.289381 -5.004247  1.411850  0.442581 -1.326536   \n",
      "280149  169351.0 -0.676143  1.126366 -2.213700  0.468308 -1.120541 -0.003346   \n",
      "281144  169966.0 -3.113832  0.585864 -5.399730  1.817092 -0.840618 -2.943548   \n",
      "281674  170348.0  1.991976  0.158476 -2.583441  0.408670  1.151147 -0.096695   \n",
      "\n",
      "              V7        V8        V9  ...       V20       V21       V22  \\\n",
      "177299 -0.429948 -0.010795  1.104275  ...  0.147609  0.144794  0.431053   \n",
      "115395 -0.945403 -0.198330 -1.765672  ... -0.336471 -0.255197 -0.343908   \n",
      "255897  1.715831 -0.588872 -2.242781  ...  0.209958  0.315407  0.851683   \n",
      "102498 -0.066291 -0.015212 -0.136914  ... -0.057284 -0.322493 -1.018555   \n",
      "146651  1.343122 -0.894213 -0.834981  ... -0.964406 -0.296499  0.208921   \n",
      "...          ...       ...       ...  ...       ...       ...       ...   \n",
      "279863 -0.882850  0.697211 -2.064945  ...  1.252967  0.778584 -0.319189   \n",
      "280143 -1.413170  0.248525 -1.127396  ...  0.226138  0.370612  0.028234   \n",
      "280149 -2.234739  1.210158 -0.652250  ...  0.247968  0.751826  0.834108   \n",
      "281144 -2.208002  1.058733 -1.632333  ...  0.306271  0.583276 -0.269209   \n",
      "281674  0.223050 -0.068384  0.577829  ... -0.017652 -0.164350 -0.295135   \n",
      "\n",
      "             V23       V24       V25       V26       V27       V28  Amount  \n",
      "177299 -0.041025  0.019774 -0.116013  0.610913 -0.028805 -0.004124  111.00  \n",
      "115395 -0.024624 -0.171254  0.451059 -0.172127  0.028043  0.014401   10.00  \n",
      "255897  0.385631 -0.021733  0.173368 -0.259105  0.092653  0.239149  247.00  \n",
      "102498  0.138014 -0.061656  0.115669  0.107845 -0.043544  0.006971   12.11  \n",
      "146651  0.083544  0.142300 -1.581367 -0.143524  0.581699 -0.149504  494.99  \n",
      "...          ...       ...       ...       ...       ...       ...     ...  \n",
      "279863  0.639419 -0.294885  0.537503  0.788395  0.292680  0.147968  390.00  \n",
      "280143 -0.145640 -0.081049  0.521875  0.739467  0.389152  0.186637    0.76  \n",
      "280149  0.190944  0.032070 -0.739695  0.471111  0.385107  0.194361   77.89  \n",
      "281144 -0.456108 -0.183659 -0.328168  0.606116  0.884876 -0.253700  245.00  \n",
      "281674 -0.072173 -0.450261  0.313267 -0.289617  0.002988 -0.015309   42.53  \n",
      "\n",
      "[984 rows x 30 columns]\n"
     ]
    }
   ],
   "source": [
    "print(x)"
   ]
  },
  {
   "cell_type": "code",
   "execution_count": 21,
   "id": "8c1e7261",
   "metadata": {
    "execution": {
     "iopub.execute_input": "2024-04-18T10:05:18.811425Z",
     "iopub.status.busy": "2024-04-18T10:05:18.811004Z",
     "iopub.status.idle": "2024-04-18T10:05:18.818259Z",
     "shell.execute_reply": "2024-04-18T10:05:18.816693Z"
    },
    "papermill": {
     "duration": 0.026041,
     "end_time": "2024-04-18T10:05:18.820496",
     "exception": false,
     "start_time": "2024-04-18T10:05:18.794455",
     "status": "completed"
    },
    "tags": []
   },
   "outputs": [
    {
     "name": "stdout",
     "output_type": "stream",
     "text": [
      "177299    0\n",
      "115395    0\n",
      "255897    0\n",
      "102498    0\n",
      "146651    0\n",
      "         ..\n",
      "279863    1\n",
      "280143    1\n",
      "280149    1\n",
      "281144    1\n",
      "281674    1\n",
      "Name: Class, Length: 984, dtype: int64\n"
     ]
    }
   ],
   "source": [
    "print(y)"
   ]
  },
  {
   "cell_type": "markdown",
   "id": "85032e0c",
   "metadata": {
    "papermill": {
     "duration": 0.015563,
     "end_time": "2024-04-18T10:05:18.851586",
     "exception": false,
     "start_time": "2024-04-18T10:05:18.836023",
     "status": "completed"
    },
    "tags": []
   },
   "source": [
    "### Splitting the data into the Training and Testing Data"
   ]
  },
  {
   "cell_type": "code",
   "execution_count": 22,
   "id": "a0c2f574",
   "metadata": {
    "execution": {
     "iopub.execute_input": "2024-04-18T10:05:18.885431Z",
     "iopub.status.busy": "2024-04-18T10:05:18.884622Z",
     "iopub.status.idle": "2024-04-18T10:05:18.894031Z",
     "shell.execute_reply": "2024-04-18T10:05:18.893040Z"
    },
    "papermill": {
     "duration": 0.028418,
     "end_time": "2024-04-18T10:05:18.896277",
     "exception": false,
     "start_time": "2024-04-18T10:05:18.867859",
     "status": "completed"
    },
    "tags": []
   },
   "outputs": [],
   "source": [
    "from sklearn.model_selection import train_test_split\n",
    "x_train,x_test,y_train,y_test = train_test_split(x,y, test_size=0.2, stratify=y, random_state=2)"
   ]
  },
  {
   "cell_type": "code",
   "execution_count": 23,
   "id": "1b791fe6",
   "metadata": {
    "execution": {
     "iopub.execute_input": "2024-04-18T10:05:18.929267Z",
     "iopub.status.busy": "2024-04-18T10:05:18.928859Z",
     "iopub.status.idle": "2024-04-18T10:05:18.935121Z",
     "shell.execute_reply": "2024-04-18T10:05:18.933542Z"
    },
    "papermill": {
     "duration": 0.025513,
     "end_time": "2024-04-18T10:05:18.937375",
     "exception": false,
     "start_time": "2024-04-18T10:05:18.911862",
     "status": "completed"
    },
    "tags": []
   },
   "outputs": [
    {
     "name": "stdout",
     "output_type": "stream",
     "text": [
      "(984, 30) (787, 30) (197, 30)\n"
     ]
    }
   ],
   "source": [
    "print(x.shape, x_train.shape, x_test.shape)"
   ]
  },
  {
   "cell_type": "markdown",
   "id": "c2d1d063",
   "metadata": {
    "papermill": {
     "duration": 0.015919,
     "end_time": "2024-04-18T10:05:18.968948",
     "exception": false,
     "start_time": "2024-04-18T10:05:18.953029",
     "status": "completed"
    },
    "tags": []
   },
   "source": [
    "### Model Training"
   ]
  },
  {
   "cell_type": "markdown",
   "id": "5431d8a9",
   "metadata": {
    "papermill": {
     "duration": 0.015267,
     "end_time": "2024-04-18T10:05:18.999844",
     "exception": false,
     "start_time": "2024-04-18T10:05:18.984577",
     "status": "completed"
    },
    "tags": []
   },
   "source": [
    "Logistic Regression"
   ]
  },
  {
   "cell_type": "code",
   "execution_count": 24,
   "id": "84c78cc1",
   "metadata": {
    "execution": {
     "iopub.execute_input": "2024-04-18T10:05:19.032351Z",
     "iopub.status.busy": "2024-04-18T10:05:19.031929Z",
     "iopub.status.idle": "2024-04-18T10:05:19.037327Z",
     "shell.execute_reply": "2024-04-18T10:05:19.035969Z"
    },
    "papermill": {
     "duration": 0.024626,
     "end_time": "2024-04-18T10:05:19.039790",
     "exception": false,
     "start_time": "2024-04-18T10:05:19.015164",
     "status": "completed"
    },
    "tags": []
   },
   "outputs": [],
   "source": [
    "model = LogisticRegression()\n"
   ]
  },
  {
   "cell_type": "code",
   "execution_count": 25,
   "id": "511f56fb",
   "metadata": {
    "execution": {
     "iopub.execute_input": "2024-04-18T10:05:19.072557Z",
     "iopub.status.busy": "2024-04-18T10:05:19.072110Z",
     "iopub.status.idle": "2024-04-18T10:05:19.126415Z",
     "shell.execute_reply": "2024-04-18T10:05:19.124732Z"
    },
    "papermill": {
     "duration": 0.075795,
     "end_time": "2024-04-18T10:05:19.131215",
     "exception": false,
     "start_time": "2024-04-18T10:05:19.055420",
     "status": "completed"
    },
    "tags": []
   },
   "outputs": [
    {
     "data": {
      "text/html": [
       "<style>#sk-container-id-1 {color: black;background-color: white;}#sk-container-id-1 pre{padding: 0;}#sk-container-id-1 div.sk-toggleable {background-color: white;}#sk-container-id-1 label.sk-toggleable__label {cursor: pointer;display: block;width: 100%;margin-bottom: 0;padding: 0.3em;box-sizing: border-box;text-align: center;}#sk-container-id-1 label.sk-toggleable__label-arrow:before {content: \"▸\";float: left;margin-right: 0.25em;color: #696969;}#sk-container-id-1 label.sk-toggleable__label-arrow:hover:before {color: black;}#sk-container-id-1 div.sk-estimator:hover label.sk-toggleable__label-arrow:before {color: black;}#sk-container-id-1 div.sk-toggleable__content {max-height: 0;max-width: 0;overflow: hidden;text-align: left;background-color: #f0f8ff;}#sk-container-id-1 div.sk-toggleable__content pre {margin: 0.2em;color: black;border-radius: 0.25em;background-color: #f0f8ff;}#sk-container-id-1 input.sk-toggleable__control:checked~div.sk-toggleable__content {max-height: 200px;max-width: 100%;overflow: auto;}#sk-container-id-1 input.sk-toggleable__control:checked~label.sk-toggleable__label-arrow:before {content: \"▾\";}#sk-container-id-1 div.sk-estimator input.sk-toggleable__control:checked~label.sk-toggleable__label {background-color: #d4ebff;}#sk-container-id-1 div.sk-label input.sk-toggleable__control:checked~label.sk-toggleable__label {background-color: #d4ebff;}#sk-container-id-1 input.sk-hidden--visually {border: 0;clip: rect(1px 1px 1px 1px);clip: rect(1px, 1px, 1px, 1px);height: 1px;margin: -1px;overflow: hidden;padding: 0;position: absolute;width: 1px;}#sk-container-id-1 div.sk-estimator {font-family: monospace;background-color: #f0f8ff;border: 1px dotted black;border-radius: 0.25em;box-sizing: border-box;margin-bottom: 0.5em;}#sk-container-id-1 div.sk-estimator:hover {background-color: #d4ebff;}#sk-container-id-1 div.sk-parallel-item::after {content: \"\";width: 100%;border-bottom: 1px solid gray;flex-grow: 1;}#sk-container-id-1 div.sk-label:hover label.sk-toggleable__label {background-color: #d4ebff;}#sk-container-id-1 div.sk-serial::before {content: \"\";position: absolute;border-left: 1px solid gray;box-sizing: border-box;top: 0;bottom: 0;left: 50%;z-index: 0;}#sk-container-id-1 div.sk-serial {display: flex;flex-direction: column;align-items: center;background-color: white;padding-right: 0.2em;padding-left: 0.2em;position: relative;}#sk-container-id-1 div.sk-item {position: relative;z-index: 1;}#sk-container-id-1 div.sk-parallel {display: flex;align-items: stretch;justify-content: center;background-color: white;position: relative;}#sk-container-id-1 div.sk-item::before, #sk-container-id-1 div.sk-parallel-item::before {content: \"\";position: absolute;border-left: 1px solid gray;box-sizing: border-box;top: 0;bottom: 0;left: 50%;z-index: -1;}#sk-container-id-1 div.sk-parallel-item {display: flex;flex-direction: column;z-index: 1;position: relative;background-color: white;}#sk-container-id-1 div.sk-parallel-item:first-child::after {align-self: flex-end;width: 50%;}#sk-container-id-1 div.sk-parallel-item:last-child::after {align-self: flex-start;width: 50%;}#sk-container-id-1 div.sk-parallel-item:only-child::after {width: 0;}#sk-container-id-1 div.sk-dashed-wrapped {border: 1px dashed gray;margin: 0 0.4em 0.5em 0.4em;box-sizing: border-box;padding-bottom: 0.4em;background-color: white;}#sk-container-id-1 div.sk-label label {font-family: monospace;font-weight: bold;display: inline-block;line-height: 1.2em;}#sk-container-id-1 div.sk-label-container {text-align: center;}#sk-container-id-1 div.sk-container {/* jupyter's `normalize.less` sets `[hidden] { display: none; }` but bootstrap.min.css set `[hidden] { display: none !important; }` so we also need the `!important` here to be able to override the default hidden behavior on the sphinx rendered scikit-learn.org. See: https://github.com/scikit-learn/scikit-learn/issues/21755 */display: inline-block !important;position: relative;}#sk-container-id-1 div.sk-text-repr-fallback {display: none;}</style><div id=\"sk-container-id-1\" class=\"sk-top-container\"><div class=\"sk-text-repr-fallback\"><pre>LogisticRegression()</pre><b>In a Jupyter environment, please rerun this cell to show the HTML representation or trust the notebook. <br />On GitHub, the HTML representation is unable to render, please try loading this page with nbviewer.org.</b></div><div class=\"sk-container\" hidden><div class=\"sk-item\"><div class=\"sk-estimator sk-toggleable\"><input class=\"sk-toggleable__control sk-hidden--visually\" id=\"sk-estimator-id-1\" type=\"checkbox\" checked><label for=\"sk-estimator-id-1\" class=\"sk-toggleable__label sk-toggleable__label-arrow\">LogisticRegression</label><div class=\"sk-toggleable__content\"><pre>LogisticRegression()</pre></div></div></div></div></div>"
      ],
      "text/plain": [
       "LogisticRegression()"
      ]
     },
     "execution_count": 25,
     "metadata": {},
     "output_type": "execute_result"
    }
   ],
   "source": [
    "# training the Logistic Regression model with training data\n",
    "model.fit(x_train,y_train)"
   ]
  },
  {
   "cell_type": "markdown",
   "id": "bda2b1a1",
   "metadata": {
    "papermill": {
     "duration": 0.034848,
     "end_time": "2024-04-18T10:05:19.200938",
     "exception": false,
     "start_time": "2024-04-18T10:05:19.166090",
     "status": "completed"
    },
    "tags": []
   },
   "source": [
    "### Model Evaluation"
   ]
  },
  {
   "cell_type": "markdown",
   "id": "8b8e1979",
   "metadata": {
    "papermill": {
     "duration": 0.016016,
     "end_time": "2024-04-18T10:05:19.250884",
     "exception": false,
     "start_time": "2024-04-18T10:05:19.234868",
     "status": "completed"
    },
    "tags": []
   },
   "source": [
    "Accuracy Score"
   ]
  },
  {
   "cell_type": "code",
   "execution_count": 26,
   "id": "8a3ba6d7",
   "metadata": {
    "execution": {
     "iopub.execute_input": "2024-04-18T10:05:19.284236Z",
     "iopub.status.busy": "2024-04-18T10:05:19.283787Z",
     "iopub.status.idle": "2024-04-18T10:05:19.296035Z",
     "shell.execute_reply": "2024-04-18T10:05:19.294364Z"
    },
    "papermill": {
     "duration": 0.033716,
     "end_time": "2024-04-18T10:05:19.300437",
     "exception": false,
     "start_time": "2024-04-18T10:05:19.266721",
     "status": "completed"
    },
    "tags": []
   },
   "outputs": [],
   "source": [
    "# accuracy on training data\n",
    "x_train_prediction = model.predict(x_train)\n",
    "training_data_accuracy = accuracy_score(x_train_prediction, y_train)"
   ]
  },
  {
   "cell_type": "code",
   "execution_count": 27,
   "id": "5f70fb8c",
   "metadata": {
    "execution": {
     "iopub.execute_input": "2024-04-18T10:05:19.371478Z",
     "iopub.status.busy": "2024-04-18T10:05:19.370807Z",
     "iopub.status.idle": "2024-04-18T10:05:19.379428Z",
     "shell.execute_reply": "2024-04-18T10:05:19.377660Z"
    },
    "papermill": {
     "duration": 0.051478,
     "end_time": "2024-04-18T10:05:19.386280",
     "exception": false,
     "start_time": "2024-04-18T10:05:19.334802",
     "status": "completed"
    },
    "tags": []
   },
   "outputs": [
    {
     "name": "stdout",
     "output_type": "stream",
     "text": [
      "accuracy on training data is :  0.9326556543837357\n"
     ]
    }
   ],
   "source": [
    "print(\"accuracy on training data is : \", training_data_accuracy)"
   ]
  },
  {
   "cell_type": "code",
   "execution_count": 28,
   "id": "964d13ab",
   "metadata": {
    "execution": {
     "iopub.execute_input": "2024-04-18T10:05:19.434167Z",
     "iopub.status.busy": "2024-04-18T10:05:19.433782Z",
     "iopub.status.idle": "2024-04-18T10:05:19.442904Z",
     "shell.execute_reply": "2024-04-18T10:05:19.441591Z"
    },
    "papermill": {
     "duration": 0.030432,
     "end_time": "2024-04-18T10:05:19.445770",
     "exception": false,
     "start_time": "2024-04-18T10:05:19.415338",
     "status": "completed"
    },
    "tags": []
   },
   "outputs": [],
   "source": [
    "# accuracy score on test data\n",
    "x_test_prediction = model.predict(x_test)\n",
    "test_data_accuracy = accuracy_score(x_test_prediction, y_test)"
   ]
  },
  {
   "cell_type": "code",
   "execution_count": 29,
   "id": "1a224fa5",
   "metadata": {
    "execution": {
     "iopub.execute_input": "2024-04-18T10:05:19.538233Z",
     "iopub.status.busy": "2024-04-18T10:05:19.537821Z",
     "iopub.status.idle": "2024-04-18T10:05:19.545167Z",
     "shell.execute_reply": "2024-04-18T10:05:19.543937Z"
    },
    "papermill": {
     "duration": 0.027533,
     "end_time": "2024-04-18T10:05:19.548068",
     "exception": false,
     "start_time": "2024-04-18T10:05:19.520535",
     "status": "completed"
    },
    "tags": []
   },
   "outputs": [
    {
     "name": "stdout",
     "output_type": "stream",
     "text": [
      "accuracy on test data is :  0.934010152284264\n"
     ]
    }
   ],
   "source": [
    "print(\"accuracy on test data is : \", test_data_accuracy)"
   ]
  }
 ],
 "metadata": {
  "kaggle": {
   "accelerator": "none",
   "dataSources": [
    {
     "datasetId": 310,
     "sourceId": 23498,
     "sourceType": "datasetVersion"
    }
   ],
   "dockerImageVersionId": 30684,
   "isGpuEnabled": false,
   "isInternetEnabled": false,
   "language": "python",
   "sourceType": "notebook"
  },
  "kernelspec": {
   "display_name": "Python 3",
   "language": "python",
   "name": "python3"
  },
  "language_info": {
   "codemirror_mode": {
    "name": "ipython",
    "version": 3
   },
   "file_extension": ".py",
   "mimetype": "text/x-python",
   "name": "python",
   "nbconvert_exporter": "python",
   "pygments_lexer": "ipython3",
   "version": "3.10.13"
  },
  "papermill": {
   "default_parameters": {},
   "duration": 13.192952,
   "end_time": "2024-04-18T10:05:20.185366",
   "environment_variables": {},
   "exception": null,
   "input_path": "__notebook__.ipynb",
   "output_path": "__notebook__.ipynb",
   "parameters": {},
   "start_time": "2024-04-18T10:05:06.992414",
   "version": "2.5.0"
  }
 },
 "nbformat": 4,
 "nbformat_minor": 5
}
